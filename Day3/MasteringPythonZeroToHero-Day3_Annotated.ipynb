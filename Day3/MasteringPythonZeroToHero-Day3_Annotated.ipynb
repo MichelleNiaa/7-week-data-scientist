{
 "cells": [
  {
   "cell_type": "markdown",
   "id": "b251e733",
   "metadata": {},
   "source": [
    "## 💡 Input and Comparison\n",
    "This section takes user input and checks which number is greater using simple `if-elif-else` condition."
   ]
  },
  {
   "cell_type": "code",
   "execution_count": 1,
   "id": "fd90dc4e",
   "metadata": {},
   "outputs": [
    {
     "data": {
      "text/plain": [
       "False"
      ]
     },
     "execution_count": 1,
     "metadata": {},
     "output_type": "execute_result"
    }
   ],
   "source": [
    "isinstance(3.4, int)"
   ]
  },
  {
   "cell_type": "markdown",
   "id": "3a1f1dca",
   "metadata": {},
   "source": [
    "## 🔁 Nested Conditions\n",
    "In this example, we use nested `if` statements to check multiple levels of conditions."
   ]
  },
  {
   "cell_type": "code",
   "execution_count": 2,
   "id": "659eab4e",
   "metadata": {},
   "outputs": [
    {
     "data": {
      "text/plain": [
       "True"
      ]
     },
     "execution_count": 2,
     "metadata": {},
     "output_type": "execute_result"
    }
   ],
   "source": [
    "isinstance(3.8,float)"
   ]
  },
  {
   "cell_type": "markdown",
   "id": "4475327b",
   "metadata": {},
   "source": [
    "## 📊 Even/Odd with Integer Part\n",
    "Here we extract the integer part of a float and determine if it is even or odd."
   ]
  },
  {
   "cell_type": "code",
   "execution_count": 3,
   "id": "fe67381b",
   "metadata": {},
   "outputs": [
    {
     "data": {
      "text/plain": [
       "True"
      ]
     },
     "execution_count": 3,
     "metadata": {},
     "output_type": "execute_result"
    }
   ],
   "source": [
    "isinstance(4.5j,(int,float,complex))"
   ]
  },
  {
   "cell_type": "markdown",
   "id": "dde41c78",
   "metadata": {},
   "source": [
    "## ⚠️ Type Error Practice\n",
    "This shows what happens when types don't match, like comparing a string to a number."
   ]
  },
  {
   "cell_type": "code",
   "execution_count": 4,
   "id": "1de530da",
   "metadata": {},
   "outputs": [
    {
     "data": {
      "text/plain": [
       "16"
      ]
     },
     "execution_count": 4,
     "metadata": {},
     "output_type": "execute_result"
    }
   ],
   "source": [
    "pow(2,4)"
   ]
  },
  {
   "cell_type": "markdown",
   "id": "48019761",
   "metadata": {},
   "source": [
    "## 🔄 While Loop Practice\n",
    "We use a `while` loop to print numbers up to a limit. Note: input must be cast to integer."
   ]
  },
  {
   "cell_type": "code",
   "execution_count": 5,
   "id": "c91b5f17",
   "metadata": {},
   "outputs": [
    {
     "data": {
      "text/plain": [
       "0"
      ]
     },
     "execution_count": 5,
     "metadata": {},
     "output_type": "execute_result"
    }
   ],
   "source": [
    "pow(2,4,4)"
   ]
  },
  {
   "cell_type": "code",
   "execution_count": 6,
   "id": "85d5e37a",
   "metadata": {},
   "outputs": [
    {
     "name": "stdout",
     "output_type": "stream",
     "text": [
      "what is your name? Mah\n"
     ]
    }
   ],
   "source": [
    "a=input(\"what is your name? \")"
   ]
  },
  {
   "cell_type": "code",
   "execution_count": 7,
   "id": "62e91c4f",
   "metadata": {},
   "outputs": [
    {
     "name": "stdout",
     "output_type": "stream",
     "text": [
      "Mah\n"
     ]
    }
   ],
   "source": [
    "print(a)"
   ]
  },
  {
   "cell_type": "code",
   "execution_count": 8,
   "id": "17009c4d",
   "metadata": {},
   "outputs": [
    {
     "name": "stdout",
     "output_type": "stream",
     "text": [
      "Enter Number 2\n"
     ]
    }
   ],
   "source": [
    "x= input(\"Enter Number \")\n",
    "         "
   ]
  },
  {
   "cell_type": "code",
   "execution_count": 9,
   "id": "b514aff9",
   "metadata": {},
   "outputs": [
    {
     "data": {
      "text/plain": [
       "str"
      ]
     },
     "execution_count": 9,
     "metadata": {},
     "output_type": "execute_result"
    }
   ],
   "source": [
    "type(x)"
   ]
  },
  {
   "cell_type": "code",
   "execution_count": 10,
   "id": "722d150b",
   "metadata": {},
   "outputs": [
    {
     "name": "stdout",
     "output_type": "stream",
     "text": [
      "Enter Number 2\n"
     ]
    }
   ],
   "source": [
    "x=int(input(\"Enter Number \"))"
   ]
  },
  {
   "cell_type": "code",
   "execution_count": 11,
   "id": "a3f803b7",
   "metadata": {},
   "outputs": [
    {
     "data": {
      "text/plain": [
       "int"
      ]
     },
     "execution_count": 11,
     "metadata": {},
     "output_type": "execute_result"
    }
   ],
   "source": [
    "type(x)"
   ]
  },
  {
   "cell_type": "code",
   "execution_count": 12,
   "id": "0a771ef0",
   "metadata": {},
   "outputs": [],
   "source": [
    "pow??"
   ]
  },
  {
   "cell_type": "code",
   "execution_count": 13,
   "id": "ccf9a1a9",
   "metadata": {},
   "outputs": [
    {
     "name": "stdout",
     "output_type": "stream",
     "text": [
      "Help on built-in function pow in module builtins:\n",
      "\n",
      "pow(base, exp, mod=None)\n",
      "    Equivalent to base**exp with 2 arguments or base**exp % mod with 3 arguments\n",
      "    \n",
      "    Some types, such as ints, are able to use a more efficient algorithm when\n",
      "    invoked using the three argument form.\n",
      "\n"
     ]
    }
   ],
   "source": [
    "help(pow)"
   ]
  },
  {
   "cell_type": "code",
   "execution_count": 15,
   "id": "b8373626",
   "metadata": {},
   "outputs": [
    {
     "name": "stdout",
     "output_type": "stream",
     "text": [
      "Enter first number: 2\n",
      "Enter second number: 2\n",
      "Both numbers are equal.\n"
     ]
    }
   ],
   "source": [
    "a = int(input(\"Enter first number: \"))\n",
    "b = int(input(\"Enter second number: \"))\n",
    "\n",
    "if a > b:\n",
    "    print(\"The larger number is:\", a)\n",
    "elif b > a:\n",
    "    print(\"The larger number is:\", b)\n",
    "else:\n",
    "    print(\"Both numbers are equal.\")\n"
   ]
  },
  {
   "cell_type": "code",
   "execution_count": 29,
   "id": "7ac85a80",
   "metadata": {},
   "outputs": [
    {
     "name": "stdout",
     "output_type": "stream",
     "text": [
      "Enter first number: 2\n",
      "Enter second number: 1\n",
      "The larger number is: 2\n"
     ]
    }
   ],
   "source": [
    "a = int(input(\"Enter first number: \"))\n",
    "b = int(input(\"Enter second number: \"))\n",
    "\n",
    "if a > b:\n",
    "    print(\"The larger number is:\", a)\n",
    "else:\n",
    "    print(\"the lagest number is:\", b)"
   ]
  },
  {
   "cell_type": "code",
   "execution_count": 30,
   "id": "3fca26cf",
   "metadata": {},
   "outputs": [
    {
     "name": "stdout",
     "output_type": "stream",
     "text": [
      "Enter first number: 2\n",
      "Enter second number: 33\n",
      "B\n"
     ]
    }
   ],
   "source": [
    "a = int(input(\"Enter first number: \"))\n",
    "b = int(input(\"Enter second number: \"))\n",
    "\n",
    "PRINT(\"A\") if a>b else print(\"=\") if a==b else print(\"B\")"
   ]
  },
  {
   "cell_type": "code",
   "execution_count": 34,
   "id": "5c986653",
   "metadata": {},
   "outputs": [
    {
     "name": "stdout",
     "output_type": "stream",
     "text": [
      "Enter first number: 20\n",
      "The Mark Fail\n"
     ]
    }
   ],
   "source": [
    "a = int(input(\"Enter first number: \"))\n",
    "\n",
    "if a >= 80 :\n",
    "    print(\"The Mark is A garde\")\n",
    "elif a >= 60:\n",
    "    print(\"The Mark is B garde\")\n",
    "elif a>=40:\n",
    "     print(\"The Marks is C Garde\") \n",
    "else:\n",
    "    print(\"The Mark Fail\")\n",
    "\n"
   ]
  },
  {
   "cell_type": "code",
   "execution_count": 37,
   "id": "b586db34",
   "metadata": {},
   "outputs": [
    {
     "name": "stdout",
     "output_type": "stream",
     "text": [
      "Enter first number: 11\n",
      ">10\n"
     ]
    }
   ],
   "source": [
    "a = int(input(\"Enter first number: \"))\n",
    "if a>10:\n",
    "    print(\">10\")\n",
    "elif not(a>10):\n",
    "    print(\"else part\")"
   ]
  },
  {
   "cell_type": "code",
   "execution_count": 46,
   "id": "de9eff05",
   "metadata": {},
   "outputs": [
    {
     "name": "stdout",
     "output_type": "stream",
     "text": [
      "Enter your age: 10\n",
      "Enter your monthly income in dollars: 2\n",
      "You are a minor and not eligible for a credit card.\n",
      "Program finished.\n"
     ]
    }
   ],
   "source": [
    "# Example of nested if statements\n",
    "\n",
    "# Input values\n",
    "age = int(input(\"Enter your age: \"))\n",
    "income = int(input(\"Enter your monthly income in dollars: \"))\n",
    "\n",
    "# Outer if condition\n",
    "if age >= 18:\n",
    "    print(\"You are an adult.\")\n",
    "    \n",
    "    # Nested if condition\n",
    "    if income >= 3000:\n",
    "        print(\"You are eligible for a credit card.\")\n",
    "    else:\n",
    "        print(\"You may not qualify for a credit card due to low income.\")\n",
    "else:\n",
    "    print(\"You are a minor and not eligible for a credit card.\")\n",
    "\n",
    "print(\"Program finished.\")\n"
   ]
  },
  {
   "cell_type": "code",
   "execution_count": 47,
   "id": "cbf8ffe8",
   "metadata": {},
   "outputs": [
    {
     "name": "stdout",
     "output_type": "stream",
     "text": [
      "Enter first number: 10\n",
      "Enter second number: 2\n",
      "First number is greater.\n",
      "But the difference is 10 or less.\n"
     ]
    }
   ],
   "source": [
    "# ✅ Nested if statement example\n",
    "\n",
    "# Ask user to input two numbers\n",
    "a = int(input(\"Enter first number: \"))\n",
    "b = int(input(\"Enter second number: \"))\n",
    "\n",
    "# Outer condition: check if a is greater than b\n",
    "if a > b:\n",
    "    print(\"First number is greater.\")\n",
    "\n",
    "    # Nested condition: check if difference is more than 10\n",
    "    if (a - b) > 10:\n",
    "        print(\"And the difference is greater than 10.\")\n",
    "    else:\n",
    "        print(\"But the difference is 10 or less.\")\n",
    "\n",
    "elif b > a:\n",
    "    print(\"Second number is greater.\")\n",
    "\n",
    "    # Nested condition: check if b is even\n",
    "    if b % 2 == 0:\n",
    "        print(\"And it's an even number.\")\n",
    "    else:\n",
    "        print(\"And it's an odd number.\")\n",
    "\n",
    "else:\n",
    "    print(\"Both numbers are equal.\")\n"
   ]
  },
  {
   "cell_type": "code",
   "execution_count": 51,
   "id": "d1055edb",
   "metadata": {},
   "outputs": [
    {
     "name": "stdout",
     "output_type": "stream",
     "text": [
      "Enter a number: 11\n",
      "Your number is above ten, but not above 20.\n"
     ]
    }
   ],
   "source": [
    "# Nested if-else example\n",
    "x = int(input(\"Enter a number: \"))\n",
    "\n",
    "if x > 10:\n",
    "    print(\"Your number is above ten,\", end=\" \")\n",
    "    \n",
    "    if x > 20:\n",
    "        print(\"and also above 20!\")\n",
    "    else:\n",
    "        print(\"but not above 20.\")\n",
    "else:\n",
    "    print(\"Your number is 10 or below.\")\n"
   ]
  },
  {
   "cell_type": "markdown",
   "id": "225f36c0",
   "metadata": {},
   "source": [
    "#single line comment\n",
    "\"\"\"\n",
    "Python Conditional Practice – Extracting Integer and Checking Even/Odd\n",
    "Question:\n",
    "\n",
    "A user will enter a floating-point number (e.g., 238.915).\n",
    "Your task is to:\n",
    "\n",
    "Extract the integer part of the number (in this case, 238).\n",
    "\n",
    "Determine whether the extracted integer is an even or odd number.\n",
    "\n",
    "Display a message stating whether the integer portion is even or odd.\"\"\""
   ]
  },
  {
   "cell_type": "code",
   "execution_count": 128,
   "id": "1de3cfc2",
   "metadata": {},
   "outputs": [
    {
     "name": "stdout",
     "output_type": "stream",
     "text": [
      "Enter a number: -2.9\n",
      "Rounded value: -3\n",
      "Integer portion: -2\n",
      "EVEN\n"
     ]
    }
   ],
   "source": [
    "x = float(input(\"Enter a number: \"))\n",
    "y = round(x)\n",
    "\n",
    "print(\"Rounded value:\", y)\n",
    "\n",
    "if x > 0:\n",
    "    if y > x:\n",
    "        intportion = y - 1\n",
    "    else:\n",
    "        intportion = y\n",
    "else:\n",
    "    if y < x:\n",
    "        intportion = y + 1\n",
    "    else:\n",
    "        intportion = y\n",
    "\n",
    "# ✅ Always print the integer portion after determining it\n",
    "print(\"Integer portion:\", intportion)\n",
    "\n",
    "# ✅ Check even or odd\n",
    "if intportion % 2 == 0:\n",
    "    print(\"EVEN\")\n",
    "else:\n",
    "    print(\"ODD\")\n",
    "\n",
    "\n"
   ]
  },
  {
   "cell_type": "code",
   "execution_count": null,
   "id": "71512acc",
   "metadata": {},
   "outputs": [],
   "source": [
    "#contorl Flow (LOOps)"
   ]
  },
  {
   "cell_type": "code",
   "execution_count": 132,
   "id": "2ac57e43",
   "metadata": {},
   "outputs": [
    {
     "name": "stdout",
     "output_type": "stream",
     "text": [
      "max interactions: 3\n",
      "1\n",
      "2\n",
      "Done\n"
     ]
    }
   ],
   "source": [
    "n = int(input(\"max interactions: \"))\n",
    "i = 1\n",
    "while i < n:\n",
    "    print(i)\n",
    "    i += 1\n",
    "\n",
    "print(\"Done\")\n"
   ]
  },
  {
   "cell_type": "code",
   "execution_count": 133,
   "id": "d942c3ad",
   "metadata": {},
   "outputs": [
    {
     "name": "stdout",
     "output_type": "stream",
     "text": [
      "max interactions: 5\n",
      "1\n",
      "4\n",
      "9\n",
      "16\n",
      "Done\n"
     ]
    }
   ],
   "source": [
    "n = int(input(\"max interactions: \"))\n",
    "i = 1\n",
    "while i < n:\n",
    "    print(i**2)\n",
    "    i += 1\n",
    "\n",
    "print(\"Done\")"
   ]
  },
  {
   "cell_type": "code",
   "execution_count": null,
   "id": "08883247",
   "metadata": {},
   "outputs": [],
   "source": []
  }
 ],
 "metadata": {
  "kernelspec": {
   "display_name": "Python 3 (ipykernel)",
   "language": "python",
   "name": "python3"
  },
  "language_info": {
   "codemirror_mode": {
    "name": "ipython",
    "version": 3
   },
   "file_extension": ".py",
   "mimetype": "text/x-python",
   "name": "python",
   "nbconvert_exporter": "python",
   "pygments_lexer": "ipython3",
   "version": "3.11.3"
  }
 },
 "nbformat": 4,
 "nbformat_minor": 5
}
