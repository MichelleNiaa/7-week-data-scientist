{
 "cells": [
  {
   "cell_type": "code",
   "execution_count": 3,
   "id": "bc2a7591",
   "metadata": {},
   "outputs": [
    {
     "name": "stdout",
     "output_type": "stream",
     "text": [
      "   A lot OF Spaces at The    beGinning and end   \n",
      "A lot OF Spaces at The    beGinning and end\n",
      "Lowercase: a lot of spaces at the    beginning and end\n",
      "Uppercase: A LOT OF SPACES AT THE    BEGINNING AND END\n",
      "Replace spaces with commas: ,,,A,lot,OF,Spaces,at,The,,,,beGinning,and,end,,,\n",
      "List after split: ['game', 'and', 'no']\n"
     ]
    }
   ],
   "source": [
    "# Original string with leading and trailing spaces\n",
    "a = \"   A lot OF Spaces at The    beGinning and end   \"\n",
    "print(a)\n",
    "\n",
    "# Removes leading and trailing whitespace using .strip()\n",
    "b = a.strip()\n",
    "print(b)\n",
    "# Convert the stripped string to lowercase\n",
    "print(\"Lowercase:\", b.lower())\n",
    "\n",
    "# Convert the stripped string to uppercase\n",
    "print(\"Uppercase:\", b.upper())\n",
    "\n",
    "# Replace every space with a comma in the original string (before strip)\n",
    "print(\"Replace spaces with commas:\", a.replace(\" \", \",\"))\n",
    "\n",
    "# Split a comma-separated string into a list\n",
    "L = \"game,and,no\".split(\",\")  # This will return: ['game', 'and', 'no']\n",
    "print(\"List after split:\", L)\n"
   ]
  },
  {
   "cell_type": "code",
   "execution_count": 9,
   "id": "2fa9ec55",
   "metadata": {},
   "outputs": [
    {
     "name": "stdout",
     "output_type": "stream",
     "text": [
      "ABC deFg two semi colons sadfa QF two semi colons end\n"
     ]
    }
   ],
   "source": [
    "#Replaces all instances of double semicolons ;; in the string a with the phrase \"two semi colons\".\n",
    "# Original string with double semicolons in it\n",
    "a = \"ABC deFg ;; sadfa QF ;; end\"\n",
    "\n",
    "# Replace all occurrences of \";;\" with the phrase \"two semi colons\"\n",
    "d = a.replace(\";;\", \"two semi colons\")\n",
    "\n",
    "# Print the updated string\n",
    "print(d)\n",
    "\n"
   ]
  },
  {
   "cell_type": "code",
   "execution_count": 10,
   "id": "da26e533",
   "metadata": {},
   "outputs": [
    {
     "name": "stdout",
     "output_type": "stream",
     "text": [
      "['abc', 'def', 'hgydfa', 'yy23']\n"
     ]
    }
   ],
   "source": [
    "# Define a string with semicolon-separated values\n",
    "a = \"abc;def;hgydfa;yy23\"\n",
    "\n",
    "# Use the split() method to break the string into a list using \";\" as the separator\n",
    "L = a.split(\";\")\n",
    "\n",
    "# Print the resulting list\n",
    "print(L)\n"
   ]
  },
  {
   "cell_type": "code",
   "execution_count": 11,
   "id": "e4fe4046",
   "metadata": {},
   "outputs": [
    {
     "data": {
      "text/plain": [
       "'def'"
      ]
     },
     "execution_count": 11,
     "metadata": {},
     "output_type": "execute_result"
    }
   ],
   "source": [
    "L[1]"
   ]
  },
  {
   "cell_type": "code",
   "execution_count": 12,
   "id": "15783321",
   "metadata": {},
   "outputs": [
    {
     "name": "stdout",
     "output_type": "stream",
     "text": [
      "['__add__', '__class__', '__contains__', '__delattr__', '__dir__', '__doc__', '__eq__', '__format__', '__ge__', '__getattribute__', '__getitem__', '__getnewargs__', '__getstate__', '__gt__', '__hash__', '__init__', '__init_subclass__', '__iter__', '__le__', '__len__', '__lt__', '__mod__', '__mul__', '__ne__', '__new__', '__reduce__', '__reduce_ex__', '__repr__', '__rmod__', '__rmul__', '__setattr__', '__sizeof__', '__str__', '__subclasshook__', 'capitalize', 'casefold', 'center', 'count', 'encode', 'endswith', 'expandtabs', 'find', 'format', 'format_map', 'index', 'isalnum', 'isalpha', 'isascii', 'isdecimal', 'isdigit', 'isidentifier', 'islower', 'isnumeric', 'isprintable', 'isspace', 'istitle', 'isupper', 'join', 'ljust', 'lower', 'lstrip', 'maketrans', 'partition', 'removeprefix', 'removesuffix', 'replace', 'rfind', 'rindex', 'rjust', 'rpartition', 'rsplit', 'rstrip', 'split', 'splitlines', 'startswith', 'strip', 'swapcase', 'title', 'translate', 'upper', 'zfill']\n",
      "['__add__', '__class__', '__class_getitem__', '__contains__', '__delattr__', '__delitem__', '__dir__', '__doc__', '__eq__', '__format__', '__ge__', '__getattribute__', '__getitem__', '__getstate__', '__gt__', '__hash__', '__iadd__', '__imul__', '__init__', '__init_subclass__', '__iter__', '__le__', '__len__', '__lt__', '__mul__', '__ne__', '__new__', '__reduce__', '__reduce_ex__', '__repr__', '__reversed__', '__rmul__', '__setattr__', '__setitem__', '__sizeof__', '__str__', '__subclasshook__', 'append', 'clear', 'copy', 'count', 'extend', 'index', 'insert', 'pop', 'remove', 'reverse', 'sort']\n"
     ]
    }
   ],
   "source": [
    "# Show all string methods\n",
    "print(dir(str))\n",
    "\n",
    "# Show all list methods\n",
    "print(dir(list))\n"
   ]
  },
  {
   "cell_type": "code",
   "execution_count": 13,
   "id": "f752b489",
   "metadata": {},
   "outputs": [
    {
     "name": "stdout",
     "output_type": "stream",
     "text": [
      "Help on method_descriptor:\n",
      "\n",
      "upper(self, /)\n",
      "    Return a copy of the string converted to uppercase.\n",
      "\n",
      "Help on method_descriptor:\n",
      "\n",
      "append(self, object, /)\n",
      "    Append object to the end of the list.\n",
      "\n"
     ]
    }
   ],
   "source": [
    "help(str.upper)   # shows docstring and usage for upper()\n",
    "help(list.append) # for list's append() method\n"
   ]
  },
  {
   "cell_type": "code",
   "execution_count": 16,
   "id": "fa4e3c15",
   "metadata": {},
   "outputs": [
    {
     "data": {
      "text/plain": [
       "'Hello world'"
      ]
     },
     "execution_count": 16,
     "metadata": {},
     "output_type": "execute_result"
    }
   ],
   "source": [
    "a = \"hello world\"\n",
    "a.capitalize()\n"
   ]
  },
  {
   "cell_type": "code",
   "execution_count": 27,
   "id": "56c96c6a",
   "metadata": {},
   "outputs": [
    {
     "data": {
      "text/plain": [
       "2"
      ]
     },
     "execution_count": 27,
     "metadata": {},
     "output_type": "execute_result"
    }
   ],
   "source": [
    "a.count(\"o\")"
   ]
  },
  {
   "cell_type": "code",
   "execution_count": 29,
   "id": "9a3d646f",
   "metadata": {},
   "outputs": [
    {
     "data": {
      "text/plain": [
       "<function str.format>"
      ]
     },
     "execution_count": 29,
     "metadata": {},
     "output_type": "execute_result"
    }
   ],
   "source": [
    "a.format\n"
   ]
  },
  {
   "cell_type": "code",
   "execution_count": 30,
   "id": "f4d6a815",
   "metadata": {},
   "outputs": [],
   "source": [
    "a.lower?\n"
   ]
  },
  {
   "cell_type": "code",
   "execution_count": 31,
   "id": "2fc62d3d",
   "metadata": {},
   "outputs": [
    {
     "data": {
      "text/plain": [
       "'hello world'"
      ]
     },
     "execution_count": 31,
     "metadata": {},
     "output_type": "execute_result"
    }
   ],
   "source": [
    "a.lower()"
   ]
  },
  {
   "cell_type": "code",
   "execution_count": 36,
   "id": "02031267",
   "metadata": {},
   "outputs": [],
   "source": [
    "a.rfind?"
   ]
  },
  {
   "cell_type": "code",
   "execution_count": 37,
   "id": "e22b8b2d",
   "metadata": {},
   "outputs": [
    {
     "name": "stdout",
     "output_type": "stream",
     "text": [
      "Lowercase: a lot of spaces at the    beginning and end\n",
      "Uppercase: A LOT OF SPACES AT THE    BEGINNING AND END\n",
      "Replace spaces with commas: ,,,A,lot,OF,Spaces,at,The,,,,beGinning,and,end,,,\n",
      "Split result: ['game', 'and', 'no']\n",
      "\"at\" in \"asdfaatdea\"? True\n",
      "\"at\" not in \"asdfaatdea\"? False\n",
      "Using escape \\ for quotes: \"We are learning \\\"Strings\\\" here.\"\n",
      "Using single quotes: We are learning \"Strings\" here.\n",
      "Without raw string: c:\\drive\\name\n",
      "With raw string: c:\\drive\\name\n"
     ]
    }
   ],
   "source": [
    "# Original string with spaces at the beginning and end\n",
    "a = \"   A lot OF Spaces at The    beGinning and end   \"\n",
    "\n",
    "# 1. Remove leading and trailing spaces\n",
    "b = a.strip()\n",
    "\n",
    "# 2. Convert to lowercase\n",
    "print(\"Lowercase:\", b.lower())\n",
    "\n",
    "# 3. Convert to uppercase\n",
    "print(\"Uppercase:\", b.upper())\n",
    "\n",
    "# 4. Replace all spaces with commas\n",
    "print(\"Replace spaces with commas:\", a.replace(\" \", \",\"))\n",
    "\n",
    "# 5. Split a comma-separated string into a list\n",
    "L = \"game,and,no\".split(\",\")  # This returns: ['game', 'and', 'no']\n",
    "print(\"Split result:\", L)\n",
    "\n",
    "# 6. Check if substring \"at\" exists in the string \"asdfa atdea\"\n",
    "print('\"at\" in \"asdfaatdea\"?', \"at\" in \"asdfaatdea\")  # True\n",
    "\n",
    "# 7. Check if substring \"at\" does NOT exist\n",
    "print('\"at\" not in \"asdfaatdea\"?', \"at\" not in \"asdfaatdea\")  # False\n",
    "\n",
    "# 8. Escaping quotes inside a string using backslash\n",
    "print(\"Using escape \\\\ for quotes: \\\"We are learning \\\\\\\"Strings\\\\\\\" here.\\\"\")\n",
    "# Output: We are learning \"Strings\" here.\n",
    "\n",
    "# 9. Using single quotes outside to avoid escape\n",
    "print('Using single quotes: We are learning \"Strings\" here.')\n",
    "# Same output: We are learning \"Strings\" here.\n",
    "\n",
    "# 10. Windows-style path — this causes problems due to escape sequences like \\n\n",
    "print(\"Without raw string: c:\\\\drive\\\\name\")  # May interpret \\n as newline\n",
    "\n",
    "# 11. Raw string avoids interpreting backslashes\n",
    "print(r\"With raw string: c:\\drive\\name\")  # Keeps backslashes as-is\n"
   ]
  },
  {
   "cell_type": "code",
   "execution_count": 38,
   "id": "8968d1a2",
   "metadata": {},
   "outputs": [
    {
     "data": {
      "text/plain": [
       "True"
      ]
     },
     "execution_count": 38,
     "metadata": {},
     "output_type": "execute_result"
    }
   ],
   "source": [
    "\"abc\" in \"asdfafdjabcl;jfdopasdfoajfd;la\"\n"
   ]
  },
  {
   "cell_type": "code",
   "execution_count": 41,
   "id": "3c3fbe44",
   "metadata": {},
   "outputs": [
    {
     "name": "stdout",
     "output_type": "stream",
     "text": [
      "True\n"
     ]
    }
   ],
   "source": [
    "# Visual explanation:\n",
    "# \"abc\" < \"def\"\n",
    "#  'a' < 'd' -> 'a' comes first\n",
    "\n",
    "print(\"abc\" < \"def\")  # Expected output: True\n"
   ]
  },
  {
   "cell_type": "code",
   "execution_count": 44,
   "id": "6b8875da",
   "metadata": {},
   "outputs": [
    {
     "name": "stdout",
     "output_type": "stream",
     "text": [
      "We are learning \"string\".\n",
      "He said, \"Python is great!\"\n",
      "It's a sunny day!\n"
     ]
    }
   ],
   "source": [
    "print(\"We are learning \\\"string\\\".\")\n",
    "print(\"He said, \\\"Python is great!\\\"\")\n",
    "print('It\\'s a sunny day!')\n",
    "\n"
   ]
  },
  {
   "cell_type": "code",
   "execution_count": 46,
   "id": "7da1c8d8",
   "metadata": {},
   "outputs": [
    {
     "name": "stdout",
     "output_type": "stream",
     "text": [
      "we are \t now on another line\n"
     ]
    }
   ],
   "source": [
    "print(\"we are \\t now on another line\")\n",
    "#\\t is a tab character, one of Python’s escape sequences.\n"
   ]
  },
  {
   "cell_type": "code",
   "execution_count": 47,
   "id": "19a2dec4",
   "metadata": {},
   "outputs": [
    {
     "name": "stdout",
     "output_type": "stream",
     "text": [
      "c:\\name\\drive\n"
     ]
    }
   ],
   "source": [
    "print(r\"c:\\name\\drive\")"
   ]
  },
  {
   "cell_type": "code",
   "execution_count": 48,
   "id": "504585ac",
   "metadata": {},
   "outputs": [
    {
     "name": "stdout",
     "output_type": "stream",
     "text": [
      "---- LIST ----\n",
      "Original List: [12, 'banana', 5.3]\n",
      "L[1]: banana\n",
      "After adding an item: [12, 'banana', 5.3, 'game']\n",
      "After modifying L[2]: [12, 'banana', 'orange', 'game']\n",
      "After deleting L[1]: [12, 'orange', 'game']\n",
      "Copied list: [12, 'orange', 'game']\n",
      "\n",
      "---- TUPLE ----\n",
      "Original Tuple: (12, 'banana', 5.3)\n",
      "T[2]: 5.3\n",
      "Concatenated Tuple: (1, 2, 3, 4)\n",
      "Copied Tuple (T4): (12, 'banana', 5.3)\n",
      "\n",
      "---- SET ----\n",
      "Original Set: {'banana', 12, 5.3}\n",
      "'banana' in S: True\n",
      "After adding: {'banana', 12, 5.3, 'new item'}\n",
      "After update: {'banana', 'more', 5.3, 'items', 12, 'new item'}\n",
      "After removing 'banana': {'more', 5.3, 'items', 12, 'new item'}\n",
      "Copied set: {'more', 5.3, 'items', 12, 'new item'}\n",
      "\n",
      "---- DICTIONARY ----\n",
      "Original Dictionary:\n",
      "{'Val': 12, 'name': 'Ban'}\n",
      "D['Val']: 12\n",
      "After modifying 'Val':\n",
      "{'Val': 'newValue', 'name': 'Ban'}\n",
      "After adding new key 'newkey':\n",
      "{'Val': 'newValue', 'name': 'Ban', 'newkey': 'newVal'}\n",
      "After deleting key 'Val':\n",
      "{'name': 'Ban', 'newkey': 'newVal'}\n",
      "Copied dictionary:\n",
      "{'name': 'Ban', 'newkey': 'newVal'}\n"
     ]
    }
   ],
   "source": [
    "# Step-by-step comparison of Python data structures with examples and explanations.\n",
    "# We'll prepare a full example with LIST, TUPLE, SET, and DICTIONARY\n",
    "\n",
    "from pprint import pprint\n",
    "\n",
    "# -------------------------------------\n",
    "# 1. LIST - Ordered, Changeable, Allows Duplicates\n",
    "# -------------------------------------\n",
    "print(\"---- LIST ----\")\n",
    "L = [12, \"banana\", 5.3]\n",
    "print(\"Original List:\", L)\n",
    "\n",
    "# Accessing an element\n",
    "print(\"L[1]:\", L[1])  # Access second item (\"banana\")\n",
    "\n",
    "# Adding an item\n",
    "L = L + [\"game\"]\n",
    "print(\"After adding an item:\", L)\n",
    "\n",
    "# Modifying an element\n",
    "L[2] = \"orange\"\n",
    "print(\"After modifying L[2]:\", L)\n",
    "\n",
    "# Deleting an item\n",
    "del L[1]\n",
    "print(\"After deleting L[1]:\", L)\n",
    "\n",
    "# Copying a list\n",
    "L2 = L.copy()\n",
    "print(\"Copied list:\", L2)\n",
    "\n",
    "# -------------------------------------\n",
    "# 2. TUPLE - Ordered, Immutable, Allows Duplicates\n",
    "# -------------------------------------\n",
    "print(\"\\n---- TUPLE ----\")\n",
    "T = (12, \"banana\", 5.3)\n",
    "print(\"Original Tuple:\", T)\n",
    "\n",
    "# Accessing an element\n",
    "print(\"T[2]:\", T[2])\n",
    "\n",
    "# Concatenating tuples\n",
    "T1 = (1, 2)\n",
    "T2 = (3, 4)\n",
    "T3 = T1 + T2\n",
    "print(\"Concatenated Tuple:\", T3)\n",
    "\n",
    "# Tuple copy\n",
    "T4 = T\n",
    "print(\"Copied Tuple (T4):\", T4)\n",
    "\n",
    "# -------------------------------------\n",
    "# 3. SET - Unordered, No Duplicates, Changeable (add/remove)\n",
    "# -------------------------------------\n",
    "print(\"\\n---- SET ----\")\n",
    "S = {12, \"banana\", 5.3}\n",
    "print(\"Original Set:\", S)\n",
    "\n",
    "# Membership check\n",
    "print(\"'banana' in S:\", \"banana\" in S)\n",
    "\n",
    "# Add item\n",
    "S.add(\"new item\")\n",
    "print(\"After adding:\", S)\n",
    "\n",
    "# Update with multiple items\n",
    "S.update({\"more\", \"items\"})\n",
    "print(\"After update:\", S)\n",
    "\n",
    "# Remove item\n",
    "S.remove(\"banana\")\n",
    "print(\"After removing 'banana':\", S)\n",
    "\n",
    "# Copy set\n",
    "S2 = S.copy()\n",
    "print(\"Copied set:\", S2)\n",
    "\n",
    "# -------------------------------------\n",
    "# 4. DICTIONARY - Unordered, Key:Value pairs, No Duplicate Keys\n",
    "# -------------------------------------\n",
    "print(\"\\n---- DICTIONARY ----\")\n",
    "D = {\"Val\": 12, \"name\": \"Ban\"}\n",
    "print(\"Original Dictionary:\")\n",
    "pprint(D)\n",
    "\n",
    "# Accessing a value\n",
    "print(\"D['Val']:\", D[\"Val\"])\n",
    "\n",
    "# Modifying a value\n",
    "D[\"Val\"] = \"newValue\"\n",
    "print(\"After modifying 'Val':\")\n",
    "pprint(D)\n",
    "\n",
    "# Adding a new key-value pair\n",
    "D[\"newkey\"] = \"newVal\"\n",
    "print(\"After adding new key 'newkey':\")\n",
    "pprint(D)\n",
    "\n",
    "# Deleting a key\n",
    "del D[\"Val\"]\n",
    "print(\"After deleting key 'Val':\")\n",
    "pprint(D)\n",
    "\n",
    "# Copy dictionary\n",
    "D2 = D.copy()\n",
    "print(\"Copied dictionary:\")\n",
    "pprint(D2)\n"
   ]
  },
  {
   "cell_type": "code",
   "execution_count": 49,
   "id": "38d78228",
   "metadata": {},
   "outputs": [
    {
     "name": "stdout",
     "output_type": "stream",
     "text": [
      "---- LIST ----\n",
      "Original List: [12, 'banana', 5.3]\n",
      "L[1]: banana\n",
      "After adding an item: [12, 'banana', 5.3, 'game']\n",
      "After modifying L[2]: [12, 'banana', 'orange', 'game']\n",
      "After deleting L[1]: [12, 'orange', 'game']\n",
      "Copied list: [12, 'orange', 'game']\n"
     ]
    }
   ],
   "source": [
    "from pprint import pprint\n",
    "\n",
    "# -------------------------------------\n",
    "# 1. LIST - Ordered, Changeable, Allows Duplicates\n",
    "# -------------------------------------\n",
    "print(\"---- LIST ----\")\n",
    "L = [12, \"banana\", 5.3]\n",
    "print(\"Original List:\", L)\n",
    "\n",
    "# Accessing an element\n",
    "print(\"L[1]:\", L[1])  # Access second item (\"banana\")\n",
    "\n",
    "# Adding an item\n",
    "L = L + [\"game\"]\n",
    "print(\"After adding an item:\", L)\n",
    "\n",
    "# Modifying an element\n",
    "L[2] = \"orange\"\n",
    "print(\"After modifying L[2]:\", L)\n",
    "\n",
    "# Deleting an item\n",
    "del L[1]\n",
    "print(\"After deleting L[1]:\", L)\n",
    "\n",
    "# Copying a list\n",
    "L2 = L.copy()\n",
    "print(\"Copied list:\", L2)"
   ]
  },
  {
   "cell_type": "code",
   "execution_count": 55,
   "id": "7facc648",
   "metadata": {},
   "outputs": [
    {
     "name": "stdout",
     "output_type": "stream",
     "text": [
      "\n",
      "---- TUPLE ----\n",
      "Original Tuple: (12, 'banana', 5.3)\n",
      "T[2]: 5.3\n",
      "New T is: (12, 'banana', 5.3, 'game')\n",
      "Concatenated Tuple: (1, 2, 3, 4)\n",
      "Copied Tuple (T4): (12, 'banana', 5.3, 'game')\n"
     ]
    }
   ],
   "source": [
    "# -------------------------------------\n",
    "# 2. TUPLE - Ordered, Immutable, Allows Duplicates\n",
    "# -------------------------------------\n",
    "print(\"\\n---- TUPLE ----\")\n",
    "T = (12, \"banana\", 5.3)\n",
    "print(\"Original Tuple:\", T)\n",
    "\n",
    "# Accessing an element\n",
    "print(\"T[2]:\", T[2])\n",
    "\n",
    "T = T + (\"game\",)  # ✅ Comma makes it a tuple!\n",
    "\n",
    "print(\"New T is:\", T)\n",
    "# Concatenating tuples\n",
    "T1 = (1, 2)\n",
    "T2 = (3, 4)\n",
    "T3 = T1 + T2\n",
    "print(\"Concatenated Tuple:\", T3)\n",
    "\n",
    "# Tuple copy\n",
    "T4 = T\n",
    "print(\"Copied Tuple (T4):\", T4)"
   ]
  },
  {
   "cell_type": "code",
   "execution_count": 56,
   "id": "c7780cae",
   "metadata": {},
   "outputs": [
    {
     "name": "stdout",
     "output_type": "stream",
     "text": [
      "True\n"
     ]
    }
   ],
   "source": [
    "S = {12, \"banana\", 5.3}         # Create a set\n",
    "print(\"banana\" in S)            # Membership test\n",
    "S.add(\"new item\")               # Add a single item\n",
    "S.update({\"more\", \"items\"})     # Add multiple items\n",
    "S.remove(\"banana\")              # Remove an item\n",
    "S2 = S.copy()                   # Copy the set\n"
   ]
  },
  {
   "cell_type": "code",
   "execution_count": 60,
   "id": "fd58ef74",
   "metadata": {},
   "outputs": [
    {
     "name": "stdout",
     "output_type": "stream",
     "text": [
      "Original Set: {'banana', 12, 5.3}\n",
      "'banana' in S: True\n",
      "After adding: {'banana', 12, 5.3, 'new item'}\n",
      "After update: {'banana', 'more', 5.3, 'items', 12, 'new item'}\n",
      "After removing 'banana': {'more', 5.3, 'items', 12, 'new item'}\n",
      "Copied set: {'more', 5.3, 'items', 12, 'new item'}\n"
     ]
    }
   ],
   "source": [
    "# 3. SET – Unordered, No Duplicates, Addable/Removable\n",
    "S = {12, \"banana\", 5.3}\n",
    "print(\"Original Set:\", S)\n",
    "\n",
    "# Membership test\n",
    "print(\"'banana' in S:\", \"banana\" in S)\n",
    "\n",
    "# Add one item\n",
    "S.add(\"new item\")\n",
    "print(\"After adding:\", S)\n",
    "\n",
    "# Add multiple items\n",
    "S.update({\"more\", \"items\"})\n",
    "print(\"After update:\", S)\n",
    "\n",
    "# Remove an item\n",
    "S.remove(\"banana\")\n",
    "print(\"After removing 'banana':\", S)\n",
    "\n",
    "# Copy the set\n",
    "S2 = S.copy()\n",
    "print(\"Copied set:\", S2)\n",
    "\n"
   ]
  },
  {
   "cell_type": "code",
   "execution_count": 61,
   "id": "d763a57d",
   "metadata": {},
   "outputs": [
    {
     "name": "stdout",
     "output_type": "stream",
     "text": [
      "Original Dictionary: {'Val': 12, 'name': 'Ban'}\n",
      "Accessing D['Val']: 12\n",
      "After modifying 'Val': {'Val': 'newValue', 'name': 'Ban'}\n",
      "After adding new key 'newkey': {'Val': 'newValue', 'name': 'Ban', 'newkey': 'newVal'}\n",
      "After deleting key 'Val': {'name': 'Ban', 'newkey': 'newVal'}\n",
      "Copied dictionary: {'name': 'Ban', 'newkey': 'newVal'}\n"
     ]
    }
   ],
   "source": [
    "# -------------------------------------\n",
    "# 4. DICTIONARY – Unordered, Key:Value pairs, No Duplicate Keys\n",
    "# -------------------------------------\n",
    "\n",
    "# Create a dictionary with two key-value pairs\n",
    "D = {\"Val\": 12, \"name\": \"Ban\"}\n",
    "print(\"Original Dictionary:\", D)\n",
    "\n",
    "# Access a value using its key\n",
    "print(\"Accessing D['Val']:\", D[\"Val\"])\n",
    "\n",
    "# Modify the value of an existing key\n",
    "D[\"Val\"] = \"newValue\"\n",
    "print(\"After modifying 'Val':\", D)\n",
    "\n",
    "# Add a new key-value pair to the dictionary\n",
    "D[\"newkey\"] = \"newVal\"\n",
    "print(\"After adding new key 'newkey':\", D)\n",
    "\n",
    "# Delete a key-value pair using the key\n",
    "del D[\"Val\"]\n",
    "print(\"After deleting key 'Val':\", D)\n",
    "\n",
    "# Copy the entire dictionary\n",
    "D2 = D.copy()\n",
    "print(\"Copied dictionary:\", D2)\n"
   ]
  },
  {
   "cell_type": "code",
   "execution_count": null,
   "id": "c8f61913",
   "metadata": {},
   "outputs": [],
   "source": []
  }
 ],
 "metadata": {
  "kernelspec": {
   "display_name": "Python 3 (ipykernel)",
   "language": "python",
   "name": "python3"
  },
  "language_info": {
   "codemirror_mode": {
    "name": "ipython",
    "version": 3
   },
   "file_extension": ".py",
   "mimetype": "text/x-python",
   "name": "python",
   "nbconvert_exporter": "python",
   "pygments_lexer": "ipython3",
   "version": "3.11.3"
  }
 },
 "nbformat": 4,
 "nbformat_minor": 5
}
