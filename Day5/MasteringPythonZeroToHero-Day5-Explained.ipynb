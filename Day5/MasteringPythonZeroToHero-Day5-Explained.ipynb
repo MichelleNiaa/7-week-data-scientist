{
 "cells": [
  {
   "cell_type": "markdown",
   "id": "01ffaba2",
   "metadata": {},
   "source": [
    "### 🔢 Function: Simple Addition\n",
    "This function takes two numbers `a` and `b` and returns their sum using the `return` statement."
   ]
  },
  {
   "cell_type": "code",
   "execution_count": 3,
   "id": "a8d601ab",
   "metadata": {},
   "outputs": [],
   "source": [
    "def myadd(a,b):\n",
    "    c=a+b\n",
    "    return c\n",
    "    #have access to the value out side of the function \n",
    "   "
   ]
  },
  {
   "cell_type": "markdown",
   "id": "dec0da02",
   "metadata": {},
   "source": [
    "### 🔁 Function: Loop Through List\n",
    "This function loops through a predefined list and prints each element using a `for` loop."
   ]
  },
  {
   "cell_type": "code",
   "execution_count": 7,
   "id": "e157aa8f",
   "metadata": {},
   "outputs": [
    {
     "name": "stdout",
     "output_type": "stream",
     "text": [
      "5\n"
     ]
    }
   ],
   "source": [
    " d=myadd(2,3)\n",
    "print(d)"
   ]
  },
  {
   "cell_type": "markdown",
   "id": "c9498e35",
   "metadata": {},
   "source": [
    "### 🧮 Function: Sum of a List\n",
    "Demonstrates using a function to sum values from a list passed as an argument."
   ]
  },
  {
   "cell_type": "code",
   "execution_count": 21,
   "id": "236c3b8b",
   "metadata": {},
   "outputs": [
    {
     "name": "stdout",
     "output_type": "stream",
     "text": [
      "Inside function: 5\n",
      "Outside function: 3\n"
     ]
    }
   ],
   "source": [
    "Vof = 3  # Global variable\n",
    "\n",
    "def g():\n",
    "    Vof = 5  # Local variable inside function\n",
    "    print(\"Inside function:\", Vof)\n",
    "\n",
    "g()\n",
    "print(\"Outside function:\", Vof)\n"
   ]
  },
  {
   "cell_type": "markdown",
   "id": "9aff1e83",
   "metadata": {},
   "source": [
    "### 🔢 Function with Default Values\n",
    "This function accepts parameters with default values and prints them."
   ]
  },
  {
   "cell_type": "code",
   "execution_count": 26,
   "id": "669861b6",
   "metadata": {},
   "outputs": [
    {
     "name": "stdout",
     "output_type": "stream",
     "text": [
      "Inside function: 5\n",
      "Inside function: 5\n",
      "<class 'NoneType'>\n"
     ]
    }
   ],
   "source": [
    "g()\n",
    "print(type(g()))"
   ]
  },
  {
   "cell_type": "markdown",
   "id": "7537e57a",
   "metadata": {},
   "source": [
    "### 📦 Unpacking Arguments with *args\n",
    "This function accepts any number of positional arguments and prints them."
   ]
  },
  {
   "cell_type": "code",
   "execution_count": 31,
   "id": "88da2648",
   "metadata": {},
   "outputs": [
    {
     "name": "stdout",
     "output_type": "stream",
     "text": [
      "3\n"
     ]
    }
   ],
   "source": [
    "print(Vof)\n"
   ]
  },
  {
   "cell_type": "markdown",
   "id": "2b35f894",
   "metadata": {},
   "source": [
    "### 📦 Unpacking Keyword Arguments with **kwargs\n",
    "This function accepts any number of keyword arguments and prints them."
   ]
  },
  {
   "cell_type": "code",
   "execution_count": 2,
   "id": "5fb794a9",
   "metadata": {},
   "outputs": [],
   "source": [
    "def h():\n",
    "    print(\"A\")           # Step 1: Prints \"A\"\n",
    "    a = 3                # Step 2: Sets variable a = 3\n",
    "    b = 5                # Step 3: Sets variable b = 5\n",
    "    c = a + b            # Step 4: c = 3 + 5 = 8\n",
    "    print(\"something\")   # Step 5: Prints \"something\"\n",
    "    return  c            # Step 6: Exits the function immediately\n",
    "    print(\"B\")           # ❌ Never executed\n",
    "    print(\"C\")           # ❌ Never executed\n"
   ]
  },
  {
   "cell_type": "markdown",
   "id": "09ce4ad6",
   "metadata": {},
   "source": [
    "### 🛑 Early Return\n",
    "Demonstrates that a `return` statement exits the function early, preventing further lines from executing."
   ]
  },
  {
   "cell_type": "code",
   "execution_count": 4,
   "id": "5e29ba3b",
   "metadata": {},
   "outputs": [
    {
     "name": "stdout",
     "output_type": "stream",
     "text": [
      "A\n",
      "something\n"
     ]
    }
   ],
   "source": [
    "h()"
   ]
  },
  {
   "cell_type": "markdown",
   "id": "690480dd",
   "metadata": {},
   "source": [
    "### 🧮 Multiple Return Values\n",
    "Returns two computed values from the function and prints them separately."
   ]
  },
  {
   "cell_type": "code",
   "execution_count": 5,
   "id": "d2ae0e83",
   "metadata": {},
   "outputs": [
    {
     "name": "stdout",
     "output_type": "stream",
     "text": [
      "A\n",
      "something\n",
      "<class 'NoneType'>\n"
     ]
    }
   ],
   "source": [
    "print(type(h()))"
   ]
  },
  {
   "cell_type": "markdown",
   "id": "87f98469",
   "metadata": {},
   "source": [
    "### 📌 Variable Scope\n",
    "This example demonstrates local vs global variables and scope limitations."
   ]
  },
  {
   "cell_type": "code",
   "execution_count": 7,
   "id": "53553ca7",
   "metadata": {},
   "outputs": [],
   "source": [
    "def h():\n",
    "    print(\"A\")\n",
    "    a = 3\n",
    "    b = 5\n",
    "    c = a + b\n",
    "    print(\"something\")\n",
    "    print(\"B\")\n",
    "    print(\"C\")\n",
    "    return c\n"
   ]
  },
  {
   "cell_type": "markdown",
   "id": "3a973a38",
   "metadata": {},
   "source": [
    "### 📤 Import Custom Modules\n",
    "This cell shows how to import and use functions from custom-created modules."
   ]
  },
  {
   "cell_type": "code",
   "execution_count": 8,
   "id": "2acfcf31",
   "metadata": {},
   "outputs": [],
   "source": [
    "def r():\n",
    "    a=5\n",
    "    b=7\n",
    "    d=\"something\"\n",
    "    return a,b,d"
   ]
  },
  {
   "cell_type": "code",
   "execution_count": 9,
   "id": "27c682dc",
   "metadata": {},
   "outputs": [],
   "source": [
    "x,y,z=r()"
   ]
  },
  {
   "cell_type": "code",
   "execution_count": 10,
   "id": "a49325b2",
   "metadata": {},
   "outputs": [
    {
     "name": "stdout",
     "output_type": "stream",
     "text": [
      "5 7 something\n"
     ]
    }
   ],
   "source": [
    "print(x,y,z)"
   ]
  },
  {
   "cell_type": "code",
   "execution_count": 15,
   "id": "34e9789d",
   "metadata": {},
   "outputs": [],
   "source": [
    "def add(*args):\n",
    "    sum = 0\n",
    "    for i in range(len(args)):\n",
    "        sum+=args[i]\n",
    "    return sum"
   ]
  },
  {
   "cell_type": "code",
   "execution_count": 16,
   "id": "5f44fdec",
   "metadata": {},
   "outputs": [
    {
     "data": {
      "text/plain": [
       "25"
      ]
     },
     "execution_count": 16,
     "metadata": {},
     "output_type": "execute_result"
    }
   ],
   "source": [
    "add(3,4,5,6,7)"
   ]
  },
  {
   "cell_type": "code",
   "execution_count": 30,
   "id": "0a4b02cf",
   "metadata": {},
   "outputs": [],
   "source": [
    "def f(**c):  # print all variables and values\n",
    "    for x in c:\n",
    "        print(x, c[x])\n"
   ]
  },
  {
   "cell_type": "code",
   "execution_count": 31,
   "id": "ab4ae0a7",
   "metadata": {},
   "outputs": [
    {
     "name": "stdout",
     "output_type": "stream",
     "text": [
      "a 4\n",
      "b 5\n",
      "c ccc\n"
     ]
    }
   ],
   "source": [
    "f(a=4,b=5,c=\"ccc\")"
   ]
  },
  {
   "cell_type": "code",
   "execution_count": 33,
   "id": "437760e3",
   "metadata": {},
   "outputs": [],
   "source": [
    "def f(sum = 0):\n",
    "    print(sum)"
   ]
  },
  {
   "cell_type": "code",
   "execution_count": 34,
   "id": "d1d204fb",
   "metadata": {},
   "outputs": [
    {
     "name": "stdout",
     "output_type": "stream",
     "text": [
      "0\n"
     ]
    }
   ],
   "source": [
    "f()"
   ]
  },
  {
   "cell_type": "code",
   "execution_count": 35,
   "id": "e1209b54",
   "metadata": {},
   "outputs": [
    {
     "name": "stdout",
     "output_type": "stream",
     "text": [
      "56\n"
     ]
    }
   ],
   "source": [
    "f(56)"
   ]
  },
  {
   "cell_type": "code",
   "execution_count": 37,
   "id": "2ef297f8",
   "metadata": {},
   "outputs": [
    {
     "name": "stdout",
     "output_type": "stream",
     "text": [
      "[-9, 2, 3]\n"
     ]
    }
   ],
   "source": [
    "L=[1,2,3]\n",
    "L2=L\n",
    "L2[0]=-9\n",
    "print(L)"
   ]
  },
  {
   "cell_type": "code",
   "execution_count": 40,
   "id": "dcb0b12a",
   "metadata": {},
   "outputs": [],
   "source": [
    "def ff(L=[1,2]):\n",
    "    for i in L:\n",
    "        print(i)"
   ]
  },
  {
   "cell_type": "code",
   "execution_count": 45,
   "id": "17ffd230",
   "metadata": {},
   "outputs": [
    {
     "name": "stdout",
     "output_type": "stream",
     "text": [
      "1\n",
      "2\n"
     ]
    }
   ],
   "source": [
    "L2 = [12,3,4]\n",
    "ff()\n"
   ]
  },
  {
   "cell_type": "code",
   "execution_count": 44,
   "id": "d8279aaa",
   "metadata": {},
   "outputs": [
    {
     "name": "stdout",
     "output_type": "stream",
     "text": [
      "12\n",
      "3\n",
      "4\n"
     ]
    }
   ],
   "source": [
    "ff(L2)"
   ]
  },
  {
   "cell_type": "code",
   "execution_count": 46,
   "id": "cc4ea69f",
   "metadata": {},
   "outputs": [],
   "source": [
    "#modules"
   ]
  },
  {
   "cell_type": "code",
   "execution_count": 51,
   "id": "1b85ec85",
   "metadata": {},
   "outputs": [],
   "source": [
    "\n"
   ]
  },
  {
   "cell_type": "code",
   "execution_count": null,
   "id": "4a0e893a",
   "metadata": {},
   "outputs": [],
   "source": []
  }
 ],
 "metadata": {
  "kernelspec": {
   "display_name": "Python 3 (ipykernel)",
   "language": "python",
   "name": "python3"
  },
  "language_info": {
   "codemirror_mode": {
    "name": "ipython",
    "version": 3
   },
   "file_extension": ".py",
   "mimetype": "text/x-python",
   "name": "python",
   "nbconvert_exporter": "python",
   "pygments_lexer": "ipython3",
   "version": "3.11.3"
  }
 },
 "nbformat": 4,
 "nbformat_minor": 5
}
