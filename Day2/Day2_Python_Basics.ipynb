{
 "cells": [
  {
   "cell_type": "markdown",
   "id": "1aee9399",
   "metadata": {},
   "source": [
    "# 📘 Day 2: Python Basics – Comparison, Booleans, Built-in Functions\n",
    "In this notebook, we'll explore Python's boolean type, comparison operators, and some useful built-in functions."
   ]
  },
  {
   "cell_type": "markdown",
   "id": "17b2196d",
   "metadata": {},
   "source": [
    "## 🔢 Boolean Type & Comparison Operators\n",
    "Boolean values represent truth values in Python: `True` and `False`. These are the result of comparison operations.\n",
    "\n",
    "### Comparison Operators:\n",
    "- `==`: Equal to\n",
    "- `!=`: Not equal to\n",
    "- `>`: Greater than\n",
    "- `<`: Less than\n",
    "- `>=`: Greater than or equal to\n",
    "- `<=`: Less than or equal to\n"
   ]
  },
  {
   "cell_type": "code",
   "execution_count": null,
   "id": "eb23816a",
   "metadata": {},
   "outputs": [],
   "source": [
    "# Examples of boolean values and comparison\n",
    "print(True)\n",
    "print(False)\n",
    "\n",
    "print(5 == 5)\n",
    "print(10 != 5)\n",
    "print(3 > 1)\n",
    "print(4 <= 4)"
   ]
  },
  {
   "cell_type": "markdown",
   "id": "6c4f76a5",
   "metadata": {},
   "source": [
    "## 🔍 Using `type()` to check variable types\n",
    "`type()` is a built-in function that returns the data type of the variable."
   ]
  },
  {
   "cell_type": "code",
   "execution_count": null,
   "id": "a874aca8",
   "metadata": {},
   "outputs": [],
   "source": [
    "x = 10\n",
    "y = 'hello'\n",
    "print(type(x))\n",
    "print(type(y))"
   ]
  },
  {
   "cell_type": "markdown",
   "id": "cac40e46",
   "metadata": {},
   "source": [
    "## 🧠 `id()` Function: Memory Address\n",
    "`id()` gives the memory address of the object."
   ]
  },
  {
   "cell_type": "code",
   "execution_count": null,
   "id": "9b6d8016",
   "metadata": {},
   "outputs": [],
   "source": [
    "a = 100\n",
    "b = 100\n",
    "print(id(a))\n",
    "print(id(b))  # Same id because small integers are cached"
   ]
  },
  {
   "cell_type": "markdown",
   "id": "bd6c095f",
   "metadata": {},
   "source": [
    "## 🧮 Useful Functions: `round()`, `abs()`\n",
    "- `round(number, ndigits)`: Rounds to nearest number.\n",
    "- `abs(number)`: Returns the absolute value."
   ]
  },
  {
   "cell_type": "code",
   "execution_count": null,
   "id": "ec58b6ed",
   "metadata": {},
   "outputs": [],
   "source": [
    "print(round(3.14159, 2))\n",
    "print(abs(-7))"
   ]
  },
  {
   "cell_type": "markdown",
   "id": "6a089685",
   "metadata": {},
   "source": [
    "## 📝 Practice Questions\n",
    "Try answering the following in code blocks below:\n",
    "1. What is the result of `8 < 3`?\n",
    "2. Use `type()` to check the type of `3.14`.\n",
    "3. Use `abs()` on -20 and then round the result to 1 decimal place.\n",
    "4. Compare if two string variables are equal.\n"
   ]
  },
  {
   "cell_type": "code",
   "execution_count": null,
   "id": "83a8713f",
   "metadata": {},
   "outputs": [],
   "source": [
    "# Write your answers here"
   ]
  }
 ],
 "metadata": {},
 "nbformat": 4,
 "nbformat_minor": 5
}
